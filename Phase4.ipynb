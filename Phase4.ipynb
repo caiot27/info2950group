{
 "cells": [
  {
   "cell_type": "markdown",
   "id": "240d2709-2134-47e9-ba47-dec5bd734931",
   "metadata": {},
   "source": [
    "\n",
    "Group Members: Sinny Ye (sy544), Brian Liu (bjl229), Caio Teig (cb733)"
   ]
  },
  {
   "cell_type": "markdown",
   "id": "b2159cea-6959-40ce-8c0f-ab90579eabc2",
   "metadata": {},
   "source": [
    "### Introduction"
   ]
  },
  {
   "cell_type": "markdown",
   "id": "2d084fb8-b506-411f-9db1-750101166654",
   "metadata": {},
   "source": [
    "`State your research questions clearly`\n"
   ]
  },
  {
   "cell_type": "markdown",
   "id": "815cd35f-4baa-41b5-8d77-86017562df87",
   "metadata": {},
   "source": []
  },
  {
   "cell_type": "markdown",
   "id": "97477147-ef17-480c-ba3f-5430526dc909",
   "metadata": {},
   "source": [
    "### Data description and cleaning"
   ]
  },
  {
   "cell_type": "markdown",
   "id": "484fbabc-2f79-4cb6-81b9-aefbf22bf826",
   "metadata": {},
   "source": [
    "`Refer to the Phase 2 rubric for instructions on\n",
    "“Datasheets for Datasets” questions. Additionally, describe the data cleaning\n",
    "steps taken for your project, and provide a link to the ipynb on GitHub that\n",
    "performs these data cleaning steps. If it would be helpful for understanding your\n",
    "research question, feel free to include some gures from your Phase 2 EDA to\n",
    "better explain your data`"
   ]
  },
  {
   "cell_type": "markdown",
   "id": "b603ccd9-e1ea-4230-bb65-2a5d4b61cd46",
   "metadata": {},
   "source": [
    "### Preregistration statement"
   ]
  },
  {
   "cell_type": "markdown",
   "id": "9cb4a6a4-69c1-49ac-920a-fe4a2b26065a",
   "metadata": {},
   "source": [
    "`Provide at least 2 preregistration statements. Each statement contains a hypothesis and a description of analysis to study the hypothesis. It should also include context for why you believe in your hypothesis by referencing domain knowledge or other literature. Refer to Phase 3 rubric for more details`"
   ]
  },
  {
   "cell_type": "markdown",
   "id": "a8dd9f41-e46f-4ea8-8fb4-1000c535dedc",
   "metadata": {},
   "source": [
    "**Research Questions** <br>\n",
    "**1.** Does SPY demonstrates a faster recovery rate than VTI following significant economic downturns, such as the COVID-19 pandemic or the 2008 stock market crash?\n",
    "\n",
    "**2.** asdf"
   ]
  },
  {
   "cell_type": "markdown",
   "id": "399e1911-272a-4395-83f5-ef38d24420a4",
   "metadata": {},
   "source": [
    "### Data analysis"
   ]
  },
  {
   "cell_type": "markdown",
   "id": "102cf7e2-1aee-4fa1-8999-43d203d60232",
   "metadata": {},
   "source": [
    "`Carry out the analysis for each preregistration statement.\n",
    "Interpret analyses appropriately (e.g., regressions should be interpreted using the\n",
    "summarizing, predicting, and outliers/oddities framework from class)`"
   ]
  },
  {
   "cell_type": "markdown",
   "id": "913763dd-2033-4b56-82ac-52fd8a98645a",
   "metadata": {},
   "source": [
    "### Evaluation of significance"
   ]
  },
  {
   "cell_type": "markdown",
   "id": "ae9142c0-00fc-4eb6-b79a-f836bd82cb38",
   "metadata": {},
   "source": [
    "`Determine statistical signicance of observed data.\r\n",
    "Interpret ndings and conclude whether to reject or fail to reject hypotheses\r\n",
    "outlined in preregistration statemen`ts"
   ]
  },
  {
   "cell_type": "markdown",
   "id": "50231ecd-64b6-4f4f-be15-054daf0099fc",
   "metadata": {},
   "source": [
    "### Conclusions"
   ]
  },
  {
   "cell_type": "markdown",
   "id": "34d97b74-3ad6-43fb-b322-1b9ced4b64ba",
   "metadata": {},
   "source": [
    "`Summarize your answers to your opening research questions`"
   ]
  },
  {
   "cell_type": "markdown",
   "id": "77b9529b-6ef2-4d97-b99a-1e52f91386df",
   "metadata": {},
   "source": [
    "### Limitations"
   ]
  },
  {
   "cell_type": "markdown",
   "id": "faee3677-d2b8-45d3-ad03-b431fccd5fe1",
   "metadata": {},
   "source": [
    "`Outline any potential harms and data gaps and describe how this\n",
    "could aect conclusions made.`"
   ]
  },
  {
   "cell_type": "markdown",
   "id": "d319f82f-86eb-4c3b-b252-01ad462f63de",
   "metadata": {},
   "source": [
    "### Acknowledgements and Bibliography"
   ]
  },
  {
   "cell_type": "markdown",
   "id": "41ccf45f-56d2-4b0d-ba60-15c60cd35660",
   "metadata": {},
   "source": [
    "`Think of this as your Problem 0: what\n",
    "tools, data, or resources did you use that you should cite? You may format this\n",
    "section with any citation style`\n"
   ]
  }
 ],
 "metadata": {
  "kernelspec": {
   "display_name": "Python 3 (ipykernel)",
   "language": "python",
   "name": "python3"
  },
  "language_info": {
   "codemirror_mode": {
    "name": "ipython",
    "version": 3
   },
   "file_extension": ".py",
   "mimetype": "text/x-python",
   "name": "python",
   "nbconvert_exporter": "python",
   "pygments_lexer": "ipython3",
   "version": "3.12.3"
  }
 },
 "nbformat": 4,
 "nbformat_minor": 5
}
