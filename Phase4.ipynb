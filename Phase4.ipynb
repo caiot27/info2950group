{
 "cells": [
  {
   "cell_type": "markdown",
   "id": "240d2709-2134-47e9-ba47-dec5bd734931",
   "metadata": {},
   "source": [
    "\n",
    "Group Members: Sinny Ye (sy544), Brian Liu (bjl229), Caio Teig (cb733)"
   ]
  },
  {
   "cell_type": "markdown",
   "id": "b2159cea-6959-40ce-8c0f-ab90579eabc2",
   "metadata": {},
   "source": [
    "### Introduction"
   ]
  },
  {
   "cell_type": "markdown",
   "id": "2d084fb8-b506-411f-9db1-750101166654",
   "metadata": {},
   "source": [
    "**State your research questions clearly** <br>\n",
    "**Research Questions** <br>\n",
    "**1.** Does SPY demonstrates a faster recovery rate than VTI following significant economic downturns, such as the COVID-19 pandemic or the 2008 stock market crash?\n",
    "\n",
    "**2.** asdf\n",
    " \r\n"
   ]
  },
  {
   "cell_type": "markdown",
   "id": "97477147-ef17-480c-ba3f-5430526dc909",
   "metadata": {},
   "source": [
    "### Data description and cleaning"
   ]
  },
  {
   "cell_type": "markdown",
   "id": "4595858d-df63-437f-8803-df3b11bde009",
   "metadata": {},
   "source": [
    "a"
   ]
  },
  {
   "cell_type": "markdown",
   "id": "b603ccd9-e1ea-4230-bb65-2a5d4b61cd46",
   "metadata": {
    "jp-MarkdownHeadingCollapsed": true
   },
   "source": [
    "### Preregistration statement\n",
    "\n",
    "**Research Questions** <br>\n",
    "**1.** Does SPY demonstrates a faster recovery rate than VTI following significant economic downturns, such as the COVID-19 pandemic or the 2008 stock market crash?\n",
    "\n",
    "**2.** asdf"
   ]
  },
  {
   "cell_type": "markdown",
   "id": "399e1911-272a-4395-83f5-ef38d24420a4",
   "metadata": {},
   "source": [
    "### Data analysis"
   ]
  },
  {
   "cell_type": "markdown",
   "id": "913763dd-2033-4b56-82ac-52fd8a98645a",
   "metadata": {},
   "source": [
    "### Evaluation of significance"
   ]
  },
  {
   "cell_type": "markdown",
   "id": "50231ecd-64b6-4f4f-be15-054daf0099fc",
   "metadata": {},
   "source": [
    "### Conclusions"
   ]
  },
  {
   "cell_type": "markdown",
   "id": "77b9529b-6ef2-4d97-b99a-1e52f91386df",
   "metadata": {},
   "source": [
    "### Limitations"
   ]
  },
  {
   "cell_type": "markdown",
   "id": "d319f82f-86eb-4c3b-b252-01ad462f63de",
   "metadata": {},
   "source": [
    "### Acknowledgements and Bibliography"
   ]
  },
  {
   "cell_type": "code",
   "execution_count": null,
   "id": "8b437cb7-cb42-4db7-a2ac-11391b898d9e",
   "metadata": {},
   "outputs": [],
   "source": []
  },
  {
   "cell_type": "code",
   "execution_count": null,
   "id": "2e4c8b05-43ac-4f5b-998c-91e5f8b8eb86",
   "metadata": {},
   "outputs": [],
   "source": []
  }
 ],
 "metadata": {
  "kernelspec": {
   "display_name": "Python 3 (ipykernel)",
   "language": "python",
   "name": "python3"
  },
  "language_info": {
   "codemirror_mode": {
    "name": "ipython",
    "version": 3
   },
   "file_extension": ".py",
   "mimetype": "text/x-python",
   "name": "python",
   "nbconvert_exporter": "python",
   "pygments_lexer": "ipython3",
   "version": "3.12.3"
  }
 },
 "nbformat": 4,
 "nbformat_minor": 5
}
